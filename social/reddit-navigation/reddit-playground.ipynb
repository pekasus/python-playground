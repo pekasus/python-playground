{
 "cells": [
  {
   "cell_type": "code",
   "execution_count": 17,
   "outputs": [],
   "source": [
    "import praw\n",
    "from os import getenv\n",
    "from dotenv import load_dotenv"
   ],
   "metadata": {
    "collapsed": false,
    "pycharm": {
     "name": "#%%\n"
    }
   }
  },
  {
   "cell_type": "code",
   "execution_count": 30,
   "outputs": [],
   "source": [
    "load_dotenv()\n",
    "SECRET = getenv('KEY')\n",
    "SCRIPT = getenv('CLIENT')"
   ],
   "metadata": {
    "collapsed": false,
    "pycharm": {
     "name": "#%%\n"
    }
   }
  },
  {
   "cell_type": "code",
   "execution_count": null,
   "outputs": [],
   "source": [],
   "metadata": {
    "collapsed": false,
    "pycharm": {
     "name": "#%%\n"
    }
   }
  },
  {
   "cell_type": "code",
   "execution_count": 31,
   "outputs": [],
   "source": [
    "reddit = praw.Reddit(user_agent='Jupyter Notebook',\n",
    "                     client_id = SCRIPT,\n",
    "                     client_secret = SECRET)"
   ],
   "metadata": {
    "collapsed": false,
    "pycharm": {
     "name": "#%%\n"
    }
   }
  },
  {
   "cell_type": "code",
   "execution_count": 32,
   "outputs": [],
   "source": [
    "def get_redditor_comments(user, limit):\n",
    "    return [c for c in reddit.redditor(name=user).comments.new(limit=limit)]"
   ],
   "metadata": {
    "collapsed": false,
    "pycharm": {
     "name": "#%%\n"
    }
   }
  },
  {
   "cell_type": "code",
   "execution_count": 33,
   "outputs": [],
   "source": [
    "comments = get_redditor_comments(\"SchwarzerKaffee\", 10)"
   ],
   "metadata": {
    "collapsed": false,
    "pycharm": {
     "name": "#%%\n"
    }
   }
  },
  {
   "cell_type": "code",
   "execution_count": 34,
   "outputs": [
    {
     "data": {
      "text/plain": "[Comment(id='ic5ae1y'),\n Comment(id='ic3klu7'),\n Comment(id='ic04sf2'),\n Comment(id='ibyw7xo'),\n Comment(id='ibyvrh6'),\n Comment(id='ibyv5hr'),\n Comment(id='ibyv0tf'),\n Comment(id='ibyuhdx'),\n Comment(id='ibytuh0'),\n Comment(id='ibytjay')]"
     },
     "execution_count": 34,
     "metadata": {},
     "output_type": "execute_result"
    }
   ],
   "source": [
    "comments[0]."
   ],
   "metadata": {
    "collapsed": false,
    "pycharm": {
     "name": "#%%\n"
    }
   }
  },
  {
   "cell_type": "code",
   "execution_count": 38,
   "outputs": [],
   "source": [
    "def get_comment_info(comment):\n",
    "    return {\n",
    "        'author': comment.author,\n",
    "        'body': comment.body,\n",
    "        'created_at': comment.created_utc,\n",
    "        'id': comment.id,\n",
    "        'is_submitter': comment.is_submitter,\n",
    "        'parent_id': comment.parent_id,\n",
    "        'permalink': comment.permalink,\n",
    "        'replies': comment.replies,\n",
    "        'score': comment.score,\n",
    "        'submission': comment.submission,\n",
    "        'subreddit': comment.subreddit,\n",
    "        'subreddit_id': comment.subreddit_id\n",
    "    }"
   ],
   "metadata": {
    "collapsed": false,
    "pycharm": {
     "name": "#%%\n"
    }
   }
  },
  {
   "cell_type": "code",
   "execution_count": 39,
   "outputs": [
    {
     "name": "stdout",
     "output_type": "stream",
     "text": [
      "{'author': Redditor(name='SchwarzerKaffee'), 'body': \"They do background research on jury candidates.\\n\\nYou'd be surprised how easy it is to buy data on anyone.\", 'created_at': 1655078591.0, 'id': 'ic5ae1y', 'is_submitter': False, 'parent_id': 't3_vayfdz', 'permalink': '/r/Anarchy101/comments/vayfdz/how_can_i_find_out_what_info_the_state_has_on_me/ic5ae1y/', 'replies': <praw.models.comment_forest.CommentForest object at 0x1070a7910>, 'score': 1, 'submission': Submission(id='vayfdz'), 'subreddit': Subreddit(display_name='Anarchy101'), 'subreddit_id': 't5_2s960'}\n"
     ]
    }
   ],
   "source": [
    "print(get_comment_info(comments[0]))"
   ],
   "metadata": {
    "collapsed": false,
    "pycharm": {
     "name": "#%%\n"
    }
   }
  },
  {
   "cell_type": "code",
   "execution_count": 40,
   "outputs": [
    {
     "data": {
      "text/plain": "Submission(id='vai1x4')"
     },
     "execution_count": 40,
     "metadata": {},
     "output_type": "execute_result"
    }
   ],
   "source": [
    "comments[1].parent()"
   ],
   "metadata": {
    "collapsed": false,
    "pycharm": {
     "name": "#%%\n"
    }
   }
  },
  {
   "cell_type": "code",
   "execution_count": 42,
   "outputs": [],
   "source": [
    "def get_redditor_submissions(user, limit):\n",
    "    return [c for c in reddit.redditor(name=user).submissions.new(limit=limit)]"
   ],
   "metadata": {
    "collapsed": false,
    "pycharm": {
     "name": "#%%\n"
    }
   }
  },
  {
   "cell_type": "code",
   "execution_count": 43,
   "outputs": [],
   "source": [
    "submissions = get_redditor_submissions(\"SchwarzerKaffee\", 10)"
   ],
   "metadata": {
    "collapsed": false,
    "pycharm": {
     "name": "#%%\n"
    }
   }
  },
  {
   "cell_type": "code",
   "execution_count": 41,
   "outputs": [],
   "source": [
    "def get_submission_info(submission):\n",
    "    return {\n",
    "        'author': submission.author,\n",
    "        'comments': submission.comments,\n",
    "        'created_at': submission.created_utc,\n",
    "        'id': submission.id,\n",
    "        'flair': submission.link_flair_text,\n",
    "        'name': submission.name,\n",
    "        'num_comments': submission.num_comments,\n",
    "        'permalink': submission.permalink,\n",
    "        'score': submission.score,\n",
    "        'subreddit': submission.subreddit,\n",
    "        'title': submission.title,\n",
    "        'ratio': submission.upvote_ratio,\n",
    "        'url': submission.url\n",
    "    }"
   ],
   "metadata": {
    "collapsed": false,
    "pycharm": {
     "name": "#%%\n"
    }
   }
  },
  {
   "cell_type": "code",
   "execution_count": 45,
   "outputs": [
    {
     "name": "stdout",
     "output_type": "stream",
     "text": [
      "{'author': Redditor(name='SchwarzerKaffee'), 'comments': <praw.models.comment_forest.CommentForest object at 0x1070a7f10>, 'created_at': 1654179013.0, 'id': 'v39qna', 'flair': 'Rule 4 (Negative Interaction w. other Subs)', 'name': 't3_v39qna', 'num_comments': 1, 'permalink': '/r/PoliticalCompassMemes/comments/v39qna/authright_made_a_joke_telling_bot/', 'score': 16, 'subreddit': Subreddit(display_name='PoliticalCompassMemes'), 'title': 'Authright made a joke telling bot.', 'ratio': 0.87, 'url': 'https://i.imgur.com/PeU2nma.jpg'}\n"
     ]
    }
   ],
   "source": [
    "print(get_submission_info(submissions[0]))"
   ],
   "metadata": {
    "collapsed": false,
    "pycharm": {
     "name": "#%%\n"
    }
   }
  },
  {
   "cell_type": "code",
   "execution_count": null,
   "outputs": [],
   "source": [],
   "metadata": {
    "collapsed": false,
    "pycharm": {
     "name": "#%%\n"
    }
   }
  }
 ],
 "metadata": {
  "kernelspec": {
   "display_name": "Python 3",
   "language": "python",
   "name": "python3"
  },
  "language_info": {
   "codemirror_mode": {
    "name": "ipython",
    "version": 2
   },
   "file_extension": ".py",
   "mimetype": "text/x-python",
   "name": "python",
   "nbconvert_exporter": "python",
   "pygments_lexer": "ipython2",
   "version": "2.7.6"
  }
 },
 "nbformat": 4,
 "nbformat_minor": 0
}