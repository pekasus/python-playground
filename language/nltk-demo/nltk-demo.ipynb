{
 "cells": [
  {
   "cell_type": "code",
   "execution_count": 2,
   "id": "d1c4ae7f",
   "metadata": {},
   "outputs": [],
   "source": [
    "import nltk\n",
    "from nltk.stem import WordNetLemmatizer\n",
    "from sklearn.feature_extraction.text import TfidfVectorizer\n",
    "from sklearn.metrics.pairwise import cosine_similarity"
   ]
  },
  {
   "cell_type": "code",
   "execution_count": 3,
   "id": "1eecd546",
   "metadata": {},
   "outputs": [
    {
     "name": "stderr",
     "output_type": "stream",
     "text": [
      "[nltk_data] Downloading package wordnet to /home/pekasus/nltk_data...\n",
      "[nltk_data]   Package wordnet is already up-to-date!\n"
     ]
    },
    {
     "data": {
      "text/plain": [
       "True"
      ]
     },
     "execution_count": 3,
     "metadata": {},
     "output_type": "execute_result"
    }
   ],
   "source": [
    "nltk.download('wordnet')"
   ]
  },
  {
   "cell_type": "code",
   "execution_count": 4,
   "id": "8cfdf776",
   "metadata": {},
   "outputs": [
    {
     "name": "stderr",
     "output_type": "stream",
     "text": [
      "[nltk_data] Downloading package wordnet to /home/pekasus/nltk_data...\n",
      "[nltk_data]   Package wordnet is already up-to-date!\n"
     ]
    },
    {
     "data": {
      "text/plain": [
       "True"
      ]
     },
     "execution_count": 4,
     "metadata": {},
     "output_type": "execute_result"
    }
   ],
   "source": [
    "nltk.download('wordnet')"
   ]
  },
  {
   "cell_type": "code",
   "execution_count": 5,
   "id": "f961c5e9",
   "metadata": {},
   "outputs": [],
   "source": [
    "lemmatizer = WordNetLemmatizer()"
   ]
  },
  {
   "cell_type": "code",
   "execution_count": 6,
   "id": "ead8516d",
   "metadata": {},
   "outputs": [
    {
     "data": {
      "text/plain": [
       "['vegetables', 'are', 'types', 'of', 'plants', '.']"
      ]
     },
     "execution_count": 6,
     "metadata": {},
     "output_type": "execute_result"
    }
   ],
   "source": [
    "sentence = 'Vegetables are types of plants.'\n",
    "sentence_tokens = nltk.word_tokenize(sentence.lower())\n",
    "sentence_tokens"
   ]
  },
  {
   "cell_type": "code",
   "execution_count": 7,
   "id": "671b74ac",
   "metadata": {},
   "outputs": [
    {
     "data": {
      "text/plain": [
       "[('vegetables', 'NNS'),\n",
       " ('are', 'VBP'),\n",
       " ('types', 'NNS'),\n",
       " ('of', 'IN'),\n",
       " ('plants', 'NNS'),\n",
       " ('.', '.')]"
      ]
     },
     "execution_count": 7,
     "metadata": {},
     "output_type": "execute_result"
    }
   ],
   "source": [
    "pos_tags = nltk.pos_tag(sentence_tokens)\n",
    "pos_tags"
   ]
  },
  {
   "cell_type": "code",
   "execution_count": 21,
   "id": "354fc75f",
   "metadata": {},
   "outputs": [],
   "source": [
    "def lemma_me(sent):\n",
    "    sentence_tokens1 = nltk.word_tokenize(sent.lower())\n",
    "    pos_tags1 = nltk.pos_tag(sentence_tokens1)\n",
    "    \n",
    "    sentence_lemmas = []\n",
    "    for token, pos_tag in zip(sentence_tokens1, pos_tags1):\n",
    "        if pos_tag[1][0].lower() in ['n', 'v', 'a', 'r']:\n",
    "            lemma1 = lemmatizer.lemmatize(token, pos_tag[1][0].lower())\n",
    "            sentence_lemmas.append(lemma1)\n",
    "    \n",
    "    return sentence_lemmas"
   ]
  },
  {
   "cell_type": "code",
   "execution_count": 22,
   "id": "12111170",
   "metadata": {},
   "outputs": [
    {
     "data": {
      "text/plain": [
       "['duck', 'walk', 'pond']"
      ]
     },
     "execution_count": 22,
     "metadata": {},
     "output_type": "execute_result"
    }
   ],
   "source": [
    "l1 = lemma_me(\"Vegetables are types of plants.\")\n",
    "l1"
   ]
  },
  {
   "cell_type": "code",
   "execution_count": 23,
   "id": "47525690",
   "metadata": {},
   "outputs": [],
   "source": [
    "text = 'Originally, vegetables were collected from the wild by hunter-gatherers. Vegetables are all plants. Vegetables can be eaten either raw or cooked.'\n",
    "question = 'What are vegetables?' "
   ]
  },
  {
   "cell_type": "code",
   "execution_count": 24,
   "id": "c1670494",
   "metadata": {},
   "outputs": [
    {
     "data": {
      "text/plain": [
       "['Originally, vegetables were collected from the wild by hunter-gatherers.',\n",
       " 'Vegetables are all plants.',\n",
       " 'Vegetables can be eaten either raw or cooked.',\n",
       " 'What are vegetables?']"
      ]
     },
     "execution_count": 24,
     "metadata": {},
     "output_type": "execute_result"
    }
   ],
   "source": [
    "sentence_tokens2 = nltk.sent_tokenize(text)\n",
    "sentence_tokens2.append(question)\n",
    "sentence_tokens2"
   ]
  },
  {
   "cell_type": "code",
   "execution_count": 26,
   "id": "e7601a41",
   "metadata": {},
   "outputs": [
    {
     "data": {
      "text/plain": [
       "TfidfVectorizer(tokenizer=<function lemma_me at 0x7efdbeba0670>)"
      ]
     },
     "execution_count": 26,
     "metadata": {},
     "output_type": "execute_result"
    }
   ],
   "source": [
    "tv = TfidfVectorizer(tokenizer=lemma_me)\n",
    "tv"
   ]
  },
  {
   "cell_type": "code",
   "execution_count": 27,
   "id": "3acbbb62",
   "metadata": {},
   "outputs": [
    {
     "name": "stderr",
     "output_type": "stream",
     "text": [
      "[nltk_data] Downloading package averaged_perceptron_tagger to\n",
      "[nltk_data]     /home/pekasus/nltk_data...\n",
      "[nltk_data]   Package averaged_perceptron_tagger is already up-to-\n",
      "[nltk_data]       date!\n",
      "[nltk_data] Downloading package wordnet to /home/pekasus/nltk_data...\n",
      "[nltk_data]   Package wordnet is already up-to-date!\n"
     ]
    },
    {
     "data": {
      "text/plain": [
       "True"
      ]
     },
     "execution_count": 27,
     "metadata": {},
     "output_type": "execute_result"
    }
   ],
   "source": [
    "nltk.download('averaged_perceptron_tagger')\n",
    "nltk.download('wordnet')"
   ]
  },
  {
   "cell_type": "code",
   "execution_count": 28,
   "id": "cbca963c",
   "metadata": {},
   "outputs": [
    {
     "data": {
      "text/plain": [
       "<4x8 sparse matrix of type '<class 'numpy.float64'>'\n",
       "\twith 14 stored elements in Compressed Sparse Row format>"
      ]
     },
     "execution_count": 28,
     "metadata": {},
     "output_type": "execute_result"
    }
   ],
   "source": [
    "tf = tv.fit_transform(sentence_tokens2)\n",
    "tf"
   ]
  },
  {
   "cell_type": "code",
   "execution_count": 29,
   "id": "7301d399",
   "metadata": {},
   "outputs": [
    {
     "data": {
      "text/plain": [
       "array([[0.27717414, 0.53114624, 0.        , 0.        , 0.53114624,\n",
       "        0.53114624, 0.        , 0.27717414],\n",
       "       [0.41988018, 0.        , 0.        , 0.        , 0.        ,\n",
       "        0.        , 0.8046125 , 0.41988018],\n",
       "       [0.32713399, 0.        , 0.62688384, 0.62688384, 0.        ,\n",
       "        0.        , 0.        , 0.32713399],\n",
       "       [0.70710678, 0.        , 0.        , 0.        , 0.        ,\n",
       "        0.        , 0.        , 0.70710678]])"
      ]
     },
     "execution_count": 29,
     "metadata": {},
     "output_type": "execute_result"
    }
   ],
   "source": [
    "tf.toarray()"
   ]
  },
  {
   "cell_type": "code",
   "execution_count": 31,
   "id": "0ae97bdb",
   "metadata": {},
   "outputs": [
    {
     "name": "stderr",
     "output_type": "stream",
     "text": [
      "/home/pekasus/.local/lib/python3.8/site-packages/sklearn/utils/deprecation.py:87: FutureWarning: Function get_feature_names is deprecated; get_feature_names is deprecated in 1.0 and will be removed in 1.2. Please use get_feature_names_out instead.\n",
      "  warnings.warn(msg, category=FutureWarning)\n"
     ]
    },
    {
     "data": {
      "text/html": [
       "<div>\n",
       "<style scoped>\n",
       "    .dataframe tbody tr th:only-of-type {\n",
       "        vertical-align: middle;\n",
       "    }\n",
       "\n",
       "    .dataframe tbody tr th {\n",
       "        vertical-align: top;\n",
       "    }\n",
       "\n",
       "    .dataframe thead th {\n",
       "        text-align: right;\n",
       "    }\n",
       "</style>\n",
       "<table border=\"1\" class=\"dataframe\">\n",
       "  <thead>\n",
       "    <tr style=\"text-align: right;\">\n",
       "      <th></th>\n",
       "      <th>be</th>\n",
       "      <th>collect</th>\n",
       "      <th>cook</th>\n",
       "      <th>eat</th>\n",
       "      <th>hunter-gatherer</th>\n",
       "      <th>originally</th>\n",
       "      <th>plant</th>\n",
       "      <th>vegetable</th>\n",
       "    </tr>\n",
       "  </thead>\n",
       "  <tbody>\n",
       "    <tr>\n",
       "      <th>0</th>\n",
       "      <td>0.277174</td>\n",
       "      <td>0.531146</td>\n",
       "      <td>0.000000</td>\n",
       "      <td>0.000000</td>\n",
       "      <td>0.531146</td>\n",
       "      <td>0.531146</td>\n",
       "      <td>0.000000</td>\n",
       "      <td>0.277174</td>\n",
       "    </tr>\n",
       "    <tr>\n",
       "      <th>1</th>\n",
       "      <td>0.419880</td>\n",
       "      <td>0.000000</td>\n",
       "      <td>0.000000</td>\n",
       "      <td>0.000000</td>\n",
       "      <td>0.000000</td>\n",
       "      <td>0.000000</td>\n",
       "      <td>0.804612</td>\n",
       "      <td>0.419880</td>\n",
       "    </tr>\n",
       "    <tr>\n",
       "      <th>2</th>\n",
       "      <td>0.327134</td>\n",
       "      <td>0.000000</td>\n",
       "      <td>0.626884</td>\n",
       "      <td>0.626884</td>\n",
       "      <td>0.000000</td>\n",
       "      <td>0.000000</td>\n",
       "      <td>0.000000</td>\n",
       "      <td>0.327134</td>\n",
       "    </tr>\n",
       "    <tr>\n",
       "      <th>3</th>\n",
       "      <td>0.707107</td>\n",
       "      <td>0.000000</td>\n",
       "      <td>0.000000</td>\n",
       "      <td>0.000000</td>\n",
       "      <td>0.000000</td>\n",
       "      <td>0.000000</td>\n",
       "      <td>0.000000</td>\n",
       "      <td>0.707107</td>\n",
       "    </tr>\n",
       "  </tbody>\n",
       "</table>\n",
       "</div>"
      ],
      "text/plain": [
       "         be   collect      cook       eat  hunter-gatherer  originally  \\\n",
       "0  0.277174  0.531146  0.000000  0.000000         0.531146    0.531146   \n",
       "1  0.419880  0.000000  0.000000  0.000000         0.000000    0.000000   \n",
       "2  0.327134  0.000000  0.626884  0.626884         0.000000    0.000000   \n",
       "3  0.707107  0.000000  0.000000  0.000000         0.000000    0.000000   \n",
       "\n",
       "      plant  vegetable  \n",
       "0  0.000000   0.277174  \n",
       "1  0.804612   0.419880  \n",
       "2  0.000000   0.327134  \n",
       "3  0.000000   0.707107  "
      ]
     },
     "execution_count": 31,
     "metadata": {},
     "output_type": "execute_result"
    }
   ],
   "source": [
    "import pandas\n",
    "df = pandas.DataFrame(tf.toarray(), columns=tv.get_feature_names())\n",
    "df"
   ]
  },
  {
   "cell_type": "code",
   "execution_count": 32,
   "id": "48edbab2",
   "metadata": {},
   "outputs": [
    {
     "data": {
      "text/plain": [
       "array([[0.39198343, 0.59380024, 0.46263733, 1.        ]])"
      ]
     },
     "execution_count": 32,
     "metadata": {},
     "output_type": "execute_result"
    }
   ],
   "source": [
    "values = cosine_similarity(tf[-1], tf)\n",
    "values"
   ]
  },
  {
   "cell_type": "code",
   "execution_count": 33,
   "id": "908ffd0f",
   "metadata": {},
   "outputs": [
    {
     "data": {
      "text/plain": [
       "1"
      ]
     },
     "execution_count": 33,
     "metadata": {},
     "output_type": "execute_result"
    }
   ],
   "source": [
    "index = values.argsort()[0][-2]\n",
    "index"
   ]
  },
  {
   "cell_type": "code",
   "execution_count": 34,
   "id": "312fccc0",
   "metadata": {},
   "outputs": [
    {
     "data": {
      "text/plain": [
       "array([0.39198343, 0.59380024, 0.46263733, 1.        ])"
      ]
     },
     "execution_count": 34,
     "metadata": {},
     "output_type": "execute_result"
    }
   ],
   "source": [
    "values_flat = values.flatten()\n",
    "values_flat"
   ]
  },
  {
   "cell_type": "code",
   "execution_count": 35,
   "id": "235921ec",
   "metadata": {},
   "outputs": [
    {
     "data": {
      "text/plain": [
       "0.462637331090323"
      ]
     },
     "execution_count": 35,
     "metadata": {},
     "output_type": "execute_result"
    }
   ],
   "source": [
    "coeff = values_flat[-2]\n",
    "coeff"
   ]
  },
  {
   "cell_type": "code",
   "execution_count": null,
   "id": "05756047",
   "metadata": {},
   "outputs": [],
   "source": [
    "if coeff > 0.3:\n",
    "    "
   ]
  }
 ],
 "metadata": {
  "kernelspec": {
   "display_name": "Python 3 (ipykernel)",
   "language": "python",
   "name": "python3"
  },
  "language_info": {
   "codemirror_mode": {
    "name": "ipython",
    "version": 3
   },
   "file_extension": ".py",
   "mimetype": "text/x-python",
   "name": "python",
   "nbconvert_exporter": "python",
   "pygments_lexer": "ipython3",
   "version": "3.8.10"
  }
 },
 "nbformat": 4,
 "nbformat_minor": 5
}
