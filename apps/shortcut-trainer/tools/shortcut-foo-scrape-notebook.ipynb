{
 "cells": [
  {
   "cell_type": "code",
   "execution_count": 72,
   "id": "336674a4",
   "metadata": {},
   "outputs": [],
   "source": [
    "from selenium import webdriver\n",
    "from selenium.webdriver.common.by import By\n",
    "from selenium.webdriver.common.keys import Keys\n",
    "import json"
   ]
  },
  {
   "cell_type": "code",
   "execution_count": null,
   "id": "afff56e9",
   "metadata": {},
   "outputs": [],
   "source": [
    "topic = 'vim'"
   ]
  },
  {
   "cell_type": "code",
   "execution_count": 2,
   "id": "6bcecb2f",
   "metadata": {},
   "outputs": [],
   "source": [
    "url = f\"https://www.shortcutfoo.com/app/dojos/{topic}/cheatsheet\""
   ]
  },
  {
   "cell_type": "code",
   "execution_count": 23,
   "id": "8764c421",
   "metadata": {},
   "outputs": [],
   "source": [
    "driver = webdriver.Firefox()"
   ]
  },
  {
   "cell_type": "code",
   "execution_count": 24,
   "id": "73172a21",
   "metadata": {},
   "outputs": [],
   "source": [
    "driver.get(url)"
   ]
  },
  {
   "cell_type": "code",
   "execution_count": 27,
   "id": "d5495784",
   "metadata": {},
   "outputs": [],
   "source": [
    "full_table = driver.find_element(By.CLASS_NAME, 'units-container')"
   ]
  },
  {
   "cell_type": "code",
   "execution_count": 33,
   "id": "ebd48c91",
   "metadata": {},
   "outputs": [],
   "source": [
    "sections = full_table.find_elements(By.CLASS_NAME, 'plans-section-header')"
   ]
  },
  {
   "cell_type": "code",
   "execution_count": 36,
   "id": "239cc89d",
   "metadata": {},
   "outputs": [],
   "source": [
    "tables = full_table.find_elements(By.CLASS_NAME, 'shortcuts-container')"
   ]
  },
  {
   "cell_type": "code",
   "execution_count": 44,
   "id": "dd8e65a9",
   "metadata": {},
   "outputs": [],
   "source": [
    "joint = list(zip(sections, tables))"
   ]
  },
  {
   "cell_type": "code",
   "execution_count": 74,
   "id": "fd1c3163",
   "metadata": {},
   "outputs": [
    {
     "name": "stdout",
     "output_type": "stream",
     "text": [
      "{'Beginner Text Navigation': {'k': 'Move up one line', 'j': 'Move down one line', 'h': 'Move left one character', 'l': 'Move right one character', 'e': 'Move to end of word', 'b': 'Move to previous word', '$': 'Move to end of line', '0': 'Move to beginning of line', 'H': 'Move to first line of screen', 'M': 'Move to middle line of screen', 'L': 'Move to last line of screen', 'w': 'Move to next word'}, 'Beginner Text Editing': {'ce': 'Change rest of current word', 'dw': 'Delete word', 'i': 'Insert', 'I': 'Insert at start of line', 'a': 'Append', 'A': 'Append at end of line', 'o': 'Insert new line below', 'O': 'Insert new line above', 'r': 'Change char and return to cmd mode', 'R': 'Enter replace mode', 'ESC': 'Exit insert mode to normal mode'}, 'Intermediate Text Navigation I': {'fw': \"Move to next 'w' on line\", 'Fw': \"Move to previous 'w' on line\", 'tw': \"Move before next 'w' on line\", 'Tw': \"Move before previous 'w' on line\", ';': 'Repeat last f, F, t, or T', ',': 'Repeat last f, F, t, or T reversed', '5j': 'Move down 5 lines', '5k': 'Move up 5 lines'}, 'Intermediate Text Navigation II': {'5w': 'Move 5 words forward', '5b': 'Move 5 words backward', 'ctrl+e': 'Scroll down', 'ctrl+y': 'Scroll up', 'gg': 'Go to beginning of file', 'G': 'Go to end of file', '12G': 'Go to line 12', 'ctrl+f': 'Move forward one screen', 'ctrl+b': 'Move backward one screen'}, 'Intermediate Text Editing I': {'yy': 'Yank (copy) line', 'y$': 'Yank (copy) to end of line', 'ye': 'Yank (copy) to end of word', 'dd': 'Delete (cut) current line', '5dd': 'Delete 5 lines', 'd2w': 'Delete (cut) next two words', 'D': 'Delete (cut) to end of line (one char)', 'p': 'Paste'}, 'Intermediate Text Editing II': {'P': 'Paste before cursor', 'u': 'Undo', 'U': 'Undo all changes to current line', 'ctrl+r': 'Redo', '.': 'Repeat last change', '5.': 'Repeat last change 5 times', 'de': 'Delete (cut) to end of word', 'd$': 'Delete (cut) to end of line'}, 'Advanced Text Navigation': {'^': 'Move to first non whitespace char', '20|': 'Go to column 20', '%': 'Go to matching parenthesis or bracket', 'ctrl+o': 'Move to older position', 'ctrl+i': 'Move to newer position', 'zt': 'Scroll current line to top of window'}, 'Visual Mode': {':w filename↵': \"Write selection to 'filename'\", 'v': 'Visual mode select characters', 'V': 'Visual mode highlight lines', '~': 'Swap case', '>': 'Shift right', '<': 'Shift left', 'c': 'Change highlighted text', 'y': 'Yank (copy) highlighted text', 'd': 'Cut highlighted text', '=': 'Re-indent selection'}, 'Window Management': {':e filename↵': \"Set current buffer to 'filename'\", ':sp↵': 'New window above', ':vs↵': 'New window to left', ':q↵': 'Close current window', ':qa↵': 'Close all windows'}, 'File Management': {':q!↵': 'Quit without saving', ':wq↵': 'Save and exit', ':x↵': 'Save and exit if modified', ':r filename↵': \"Read and insert 'filename'\", ':r !cmd↵': \"Execute and insert results of 'cmd'\", ':!rm filename↵': \"Delete 'filename'\", ':e↵': 'Open new file', 'ctrl+g': 'Show file info', 'ga': 'Show character info', ':w↵': 'Save changes', ':q↵': 'Quit'}, 'Bookmarks': {':marks↵': 'Show bookmarks', 'ma': \"Mark position 'a'\", '`a': \"Go to bookmark position 'a'\", '``': 'Go to previous position'}, 'Replace': {':s/foo/bar↵': \"Replace first 'foo' with 'bar' on line\", ':s/foo/bar/g↵': \"Replace all 'foo' with 'bar' on line\", ':%s/foo/bar/g↵': \"Replace all 'foo' with 'bar' in file\", ':%s/foo/bar↵': \"Replace first 'foo' with 'bar' on every line\", ':s/foo/bar/gc↵': \"Confirm replace all 'foo' with 'bar' on line\", ':s/foo/bar/i↵': \"Ignore case replace first 'foo' with 'bar'\", 'rx': \"Replace current char with 'x'\", ':%s/foo/bar/gc↵': \"Confirm replace all 'foo' with 'bar' in file\", ':2,9s/foo/bar/g↵': \"Replace all 'foo' with 'bar' between lines 2 and 9\"}, 'Search': {'/foo↵': \"Search forwards for 'foo'\", '?foo↵': \"Search backwards for 'foo'\", 'n': 'Search next', 'N': 'Search previous', '*': 'Search for current word forward', ':set nois↵': 'Turn off incremental search', ':set ic↵': 'Set ignore case', ':set is↵': 'Set incremental search', ':set hls↵': 'Set highlight matching phrases'}, 'Misc': {'vim -t foo↵': 'Start editing where foo is defined', ':help cmd↵': \"Lookup 'cmd' in help\", ':make↵': 'Run make', ':!ls↵': \"Execute 'ls' command\", 'ctrl+p': 'Move autocomplete backward', 'ctrl+x': 'Move language autocomplete forward', 'ctrl+o': 'Move language autocomplete backward', 'K': 'Look up word in man pages', 'yw': 'Yank to beginning of next word'}}\n"
     ]
    }
   ],
   "source": [
    "data = {}\n",
    "for j in joint:\n",
    "    heading = j[0].text\n",
    "#     print(heading)\n",
    "    data[heading] = {}\n",
    "    containers = j[1].find_elements(By.CLASS_NAME, \"cheatsheet-shortcut-container\")\n",
    "    for c in containers:\n",
    "        key = c.find_element(By.CLASS_NAME, \"cheatsheet-keys\").text\n",
    "        command = c.find_element(By.CLASS_NAME, \"cheatsheet-name\").text\n",
    "        data[heading][key] = command\n",
    "#         print(f\"{key} | {command}\")\n",
    "#     print(\"\\n\")\n",
    "\n",
    "print(data)"
   ]
  },
  {
   "cell_type": "code",
   "execution_count": 75,
   "id": "9948d9c2",
   "metadata": {},
   "outputs": [],
   "source": [
    "data_json = json.dumps(data)"
   ]
  },
  {
   "cell_type": "code",
   "execution_count": 76,
   "id": "159e3744",
   "metadata": {},
   "outputs": [
    {
     "name": "stdout",
     "output_type": "stream",
     "text": [
      "{\"Beginner Text Navigation\": {\"k\": \"Move up one line\", \"j\": \"Move down one line\", \"h\": \"Move left one character\", \"l\": \"Move right one character\", \"e\": \"Move to end of word\", \"b\": \"Move to previous word\", \"$\": \"Move to end of line\", \"0\": \"Move to beginning of line\", \"H\": \"Move to first line of screen\", \"M\": \"Move to middle line of screen\", \"L\": \"Move to last line of screen\", \"w\": \"Move to next word\"}, \"Beginner Text Editing\": {\"ce\": \"Change rest of current word\", \"dw\": \"Delete word\", \"i\": \"Insert\", \"I\": \"Insert at start of line\", \"a\": \"Append\", \"A\": \"Append at end of line\", \"o\": \"Insert new line below\", \"O\": \"Insert new line above\", \"r\": \"Change char and return to cmd mode\", \"R\": \"Enter replace mode\", \"ESC\": \"Exit insert mode to normal mode\"}, \"Intermediate Text Navigation I\": {\"fw\": \"Move to next 'w' on line\", \"Fw\": \"Move to previous 'w' on line\", \"tw\": \"Move before next 'w' on line\", \"Tw\": \"Move before previous 'w' on line\", \";\": \"Repeat last f, F, t, or T\", \",\": \"Repeat last f, F, t, or T reversed\", \"5j\": \"Move down 5 lines\", \"5k\": \"Move up 5 lines\"}, \"Intermediate Text Navigation II\": {\"5w\": \"Move 5 words forward\", \"5b\": \"Move 5 words backward\", \"ctrl+e\": \"Scroll down\", \"ctrl+y\": \"Scroll up\", \"gg\": \"Go to beginning of file\", \"G\": \"Go to end of file\", \"12G\": \"Go to line 12\", \"ctrl+f\": \"Move forward one screen\", \"ctrl+b\": \"Move backward one screen\"}, \"Intermediate Text Editing I\": {\"yy\": \"Yank (copy) line\", \"y$\": \"Yank (copy) to end of line\", \"ye\": \"Yank (copy) to end of word\", \"dd\": \"Delete (cut) current line\", \"5dd\": \"Delete 5 lines\", \"d2w\": \"Delete (cut) next two words\", \"D\": \"Delete (cut) to end of line (one char)\", \"p\": \"Paste\"}, \"Intermediate Text Editing II\": {\"P\": \"Paste before cursor\", \"u\": \"Undo\", \"U\": \"Undo all changes to current line\", \"ctrl+r\": \"Redo\", \".\": \"Repeat last change\", \"5.\": \"Repeat last change 5 times\", \"de\": \"Delete (cut) to end of word\", \"d$\": \"Delete (cut) to end of line\"}, \"Advanced Text Navigation\": {\"^\": \"Move to first non whitespace char\", \"20|\": \"Go to column 20\", \"%\": \"Go to matching parenthesis or bracket\", \"ctrl+o\": \"Move to older position\", \"ctrl+i\": \"Move to newer position\", \"zt\": \"Scroll current line to top of window\"}, \"Visual Mode\": {\":w filename\\u21b5\": \"Write selection to 'filename'\", \"v\": \"Visual mode select characters\", \"V\": \"Visual mode highlight lines\", \"~\": \"Swap case\", \">\": \"Shift right\", \"<\": \"Shift left\", \"c\": \"Change highlighted text\", \"y\": \"Yank (copy) highlighted text\", \"d\": \"Cut highlighted text\", \"=\": \"Re-indent selection\"}, \"Window Management\": {\":e filename\\u21b5\": \"Set current buffer to 'filename'\", \":sp\\u21b5\": \"New window above\", \":vs\\u21b5\": \"New window to left\", \":q\\u21b5\": \"Close current window\", \":qa\\u21b5\": \"Close all windows\"}, \"File Management\": {\":q!\\u21b5\": \"Quit without saving\", \":wq\\u21b5\": \"Save and exit\", \":x\\u21b5\": \"Save and exit if modified\", \":r filename\\u21b5\": \"Read and insert 'filename'\", \":r !cmd\\u21b5\": \"Execute and insert results of 'cmd'\", \":!rm filename\\u21b5\": \"Delete 'filename'\", \":e\\u21b5\": \"Open new file\", \"ctrl+g\": \"Show file info\", \"ga\": \"Show character info\", \":w\\u21b5\": \"Save changes\", \":q\\u21b5\": \"Quit\"}, \"Bookmarks\": {\":marks\\u21b5\": \"Show bookmarks\", \"ma\": \"Mark position 'a'\", \"`a\": \"Go to bookmark position 'a'\", \"``\": \"Go to previous position\"}, \"Replace\": {\":s/foo/bar\\u21b5\": \"Replace first 'foo' with 'bar' on line\", \":s/foo/bar/g\\u21b5\": \"Replace all 'foo' with 'bar' on line\", \":%s/foo/bar/g\\u21b5\": \"Replace all 'foo' with 'bar' in file\", \":%s/foo/bar\\u21b5\": \"Replace first 'foo' with 'bar' on every line\", \":s/foo/bar/gc\\u21b5\": \"Confirm replace all 'foo' with 'bar' on line\", \":s/foo/bar/i\\u21b5\": \"Ignore case replace first 'foo' with 'bar'\", \"rx\": \"Replace current char with 'x'\", \":%s/foo/bar/gc\\u21b5\": \"Confirm replace all 'foo' with 'bar' in file\", \":2,9s/foo/bar/g\\u21b5\": \"Replace all 'foo' with 'bar' between lines 2 and 9\"}, \"Search\": {\"/foo\\u21b5\": \"Search forwards for 'foo'\", \"?foo\\u21b5\": \"Search backwards for 'foo'\", \"n\": \"Search next\", \"N\": \"Search previous\", \"*\": \"Search for current word forward\", \":set nois\\u21b5\": \"Turn off incremental search\", \":set ic\\u21b5\": \"Set ignore case\", \":set is\\u21b5\": \"Set incremental search\", \":set hls\\u21b5\": \"Set highlight matching phrases\"}, \"Misc\": {\"vim -t foo\\u21b5\": \"Start editing where foo is defined\", \":help cmd\\u21b5\": \"Lookup 'cmd' in help\", \":make\\u21b5\": \"Run make\", \":!ls\\u21b5\": \"Execute 'ls' command\", \"ctrl+p\": \"Move autocomplete backward\", \"ctrl+x\": \"Move language autocomplete forward\", \"ctrl+o\": \"Move language autocomplete backward\", \"K\": \"Look up word in man pages\", \"yw\": \"Yank to beginning of next word\"}}\n"
     ]
    }
   ],
   "source": [
    "print(data_json)"
   ]
  },
  {
   "cell_type": "code",
   "execution_count": null,
   "id": "c2b16254",
   "metadata": {},
   "outputs": [],
   "source": [
    "with open(f'{topic}-cheat-codes.json', 'w') as f:\n",
    "    json.dump(data, f)"
   ]
  }
 ],
 "metadata": {
  "kernelspec": {
   "display_name": "Python 3 (ipykernel)",
   "language": "python",
   "name": "python3"
  },
  "language_info": {
   "codemirror_mode": {
    "name": "ipython",
    "version": 3
   },
   "file_extension": ".py",
   "mimetype": "text/x-python",
   "name": "python",
   "nbconvert_exporter": "python",
   "pygments_lexer": "ipython3",
   "version": "3.8.10"
  }
 },
 "nbformat": 4,
 "nbformat_minor": 5
}
